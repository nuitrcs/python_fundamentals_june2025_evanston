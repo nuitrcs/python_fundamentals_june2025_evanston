{
 "cells": [
  {
   "cell_type": "markdown",
   "id": "e3443074",
   "metadata": {},
   "source": [
    "# Python Fundamentals Part 5 Exercise  \n",
    "\n",
    "**Conversion Calculator**\n",
    "\n",
    "*Example solution, May 2025*\n",
    "\n",
    "(Please note that this is just one possible solution to the task.  You may choose a different method that works equally well.  That is part of the adventure and individuality inherent in writing code!)\n",
    "\n",
    "----------\n",
    "\n",
    "The code below will read in a datafile `conversionMeasures.csv`, and use this file to convert units based on user tests or direct input."
   ]
  },
  {
   "cell_type": "code",
   "execution_count": 1,
   "id": "0e1128d9",
   "metadata": {},
   "outputs": [],
   "source": [
    "# import libraries\n",
    "import os"
   ]
  },
  {
   "cell_type": "markdown",
   "id": "658a468a",
   "metadata": {},
   "source": [
    "## Read in the file and save the content as a list of lists"
   ]
  },
  {
   "cell_type": "code",
   "execution_count": 2,
   "id": "c155432e",
   "metadata": {},
   "outputs": [],
   "source": [
    "# define the name of the conversion file\n",
    "conversion_file = \"conversionMeasures.csv\""
   ]
  },
  {
   "cell_type": "code",
   "execution_count": 3,
   "id": "f78cdf93",
   "metadata": {},
   "outputs": [
    {
     "name": "stdout",
     "output_type": "stream",
     "text": [
      "--2025-06-16 14:45:02--  https://raw.githubusercontent.com/nuitrcs/python_workshops_datarepo/refs/heads/main/conversionMeasures.csv\n",
      "Resolving raw.githubusercontent.com (raw.githubusercontent.com)... 185.199.110.133, 185.199.109.133, 185.199.111.133, ...\n",
      "Connecting to raw.githubusercontent.com (raw.githubusercontent.com)|185.199.110.133|:443... connected.\n",
      "HTTP request sent, awaiting response... 200 OK\n",
      "Length: 1078 (1.1K) [text/plain]\n",
      "Saving to: ‘conversionMeasures.csv’\n",
      "\n",
      "conversionMeasures. 100%[===================>]   1.05K  --.-KB/s    in 0s      \n",
      "\n",
      "2025-06-16 14:45:02 (36.9 MB/s) - ‘conversionMeasures.csv’ saved [1078/1078]\n",
      "\n"
     ]
    }
   ],
   "source": [
    "# Download the file if it isn't already available locally\n",
    "if not os.path.exists(conversion_file):\n",
    "    !wget https://raw.githubusercontent.com/nuitrcs/python_workshops_datarepo/refs/heads/main/conversionMeasures.csv"
   ]
  },
  {
   "cell_type": "code",
   "execution_count": 4,
   "id": "af50affd",
   "metadata": {},
   "outputs": [
    {
     "data": {
      "text/plain": [
       "[['kilometer', '1000', 'meter'],\n",
       " ['meter', '100', 'centimeter'],\n",
       " ['inch', '2.54', 'centimeter'],\n",
       " ['foot', '30.48', 'centimeter'],\n",
       " ['mile', '1.609', 'kilometer']]"
      ]
     },
     "execution_count": 4,
     "metadata": {},
     "output_type": "execute_result"
    }
   ],
   "source": [
    "# load the data into a list of lists\n",
    "with open(conversion_file, \"r\") as f:\n",
    "    conversions_raw = f.readlines()\n",
    "\n",
    "# create an empty list and loop through the lines of file to populate this list\n",
    "conversions = []\n",
    "for row in conversions_raw:\n",
    "    # for each line, remove the trailing new line character\n",
    "    row_clean = row.replace(\"\\n\",\"\")\n",
    "    \n",
    "    # split the cleaned row on commas\n",
    "    row_list = row_clean.split(\",\")\n",
    "\n",
    "    # append this to the list we created above\n",
    "    conversions.append(row_list)\n",
    "\n",
    "# inspect the first 5 rows of the list of lists\n",
    "conversions[0:5]"
   ]
  },
  {
   "cell_type": "markdown",
   "id": "0703b5c0",
   "metadata": {},
   "source": [
    "## Create a function to process the test data\n",
    "\n",
    "This is an initial attempt at writing the function.  We will rewrite it below to fix errors, add more documentation, and address the bonus challenges."
   ]
  },
  {
   "cell_type": "code",
   "execution_count": 5,
   "id": "3229ae3c",
   "metadata": {},
   "outputs": [],
   "source": [
    "def converter(conv, value, from_unit, to_unit):\n",
    "\n",
    "    # loop through the conv list of lists\n",
    "    for row in conv:\n",
    "        # check if this row matches the from_unit and to_unit\n",
    "        if (row[0] == from_unit and row[2] == to_unit):\n",
    "            factor = float(row[1])\n",
    "            break\n",
    "    \n",
    "    # calculate the conversion\n",
    "    result = value*factor\n",
    "\n",
    "    # return the converted value\n",
    "    return result"
   ]
  },
  {
   "cell_type": "markdown",
   "id": "f4f8a247",
   "metadata": {},
   "source": [
    "## Test the functions on the 4 test cases"
   ]
  },
  {
   "cell_type": "code",
   "execution_count": 6,
   "id": "0c5e781b",
   "metadata": {},
   "outputs": [
    {
     "data": {
      "text/plain": [
       "1187.5"
      ]
     },
     "execution_count": 6,
     "metadata": {},
     "output_type": "execute_result"
    }
   ],
   "source": [
    "# test case 1\n",
    "converter(conversions, 2.5, \"pint\", \"mL\")"
   ]
  },
  {
   "cell_type": "code",
   "execution_count": 7,
   "id": "3383eb04",
   "metadata": {},
   "outputs": [
    {
     "data": {
      "text/plain": [
       "849.6"
      ]
     },
     "execution_count": 7,
     "metadata": {},
     "output_type": "execute_result"
    }
   ],
   "source": [
    "# test case 2\n",
    "converter(conversions, 30, \"cubic_foot\", \"liter\")"
   ]
  },
  {
   "cell_type": "code",
   "execution_count": 8,
   "id": "daab89ba",
   "metadata": {},
   "outputs": [
    {
     "ename": "TypeError",
     "evalue": "can't multiply sequence by non-int of type 'float'",
     "output_type": "error",
     "traceback": [
      "\u001b[0;31m---------------------------------------------------------------------------\u001b[0m",
      "\u001b[0;31mTypeError\u001b[0m                                 Traceback (most recent call last)",
      "Cell \u001b[0;32mIn [8], line 2\u001b[0m\n\u001b[1;32m      1\u001b[0m \u001b[38;5;66;03m# test case 3 (this will create an error)\u001b[39;00m\n\u001b[0;32m----> 2\u001b[0m \u001b[43mconverter\u001b[49m\u001b[43m(\u001b[49m\u001b[43mconversions\u001b[49m\u001b[43m,\u001b[49m\u001b[43m \u001b[49m\u001b[38;5;124;43m\"\u001b[39;49m\u001b[38;5;124;43m4.8\u001b[39;49m\u001b[38;5;124;43m\"\u001b[39;49m\u001b[43m,\u001b[49m\u001b[43m \u001b[49m\u001b[38;5;124;43m\"\u001b[39;49m\u001b[38;5;124;43mslug\u001b[39;49m\u001b[38;5;124;43m\"\u001b[39;49m\u001b[43m,\u001b[49m\u001b[43m \u001b[49m\u001b[38;5;124;43m\"\u001b[39;49m\u001b[38;5;124;43mpound\u001b[39;49m\u001b[38;5;124;43m\"\u001b[39;49m\u001b[43m)\u001b[49m\n",
      "Cell \u001b[0;32mIn [5], line 11\u001b[0m, in \u001b[0;36mconverter\u001b[0;34m(conv, value, from_unit, to_unit)\u001b[0m\n\u001b[1;32m      8\u001b[0m         \u001b[38;5;28;01mbreak\u001b[39;00m\n\u001b[1;32m     10\u001b[0m \u001b[38;5;66;03m# calculate the conversion\u001b[39;00m\n\u001b[0;32m---> 11\u001b[0m result \u001b[38;5;241m=\u001b[39m \u001b[43mvalue\u001b[49m\u001b[38;5;241;43m*\u001b[39;49m\u001b[43mfactor\u001b[49m\n\u001b[1;32m     13\u001b[0m \u001b[38;5;66;03m# return the converted value\u001b[39;00m\n\u001b[1;32m     14\u001b[0m \u001b[38;5;28;01mreturn\u001b[39;00m result\n",
      "\u001b[0;31mTypeError\u001b[0m: can't multiply sequence by non-int of type 'float'"
     ]
    }
   ],
   "source": [
    "# test case 3 (this will create an error)\n",
    "converter(conversions, \"4.8\", \"slug\", \"pound\")"
   ]
  },
  {
   "cell_type": "code",
   "execution_count": 9,
   "id": "aa877ea9",
   "metadata": {},
   "outputs": [
    {
     "ename": "UnboundLocalError",
     "evalue": "local variable 'factor' referenced before assignment",
     "output_type": "error",
     "traceback": [
      "\u001b[0;31m---------------------------------------------------------------------------\u001b[0m",
      "\u001b[0;31mUnboundLocalError\u001b[0m                         Traceback (most recent call last)",
      "Cell \u001b[0;32mIn [9], line 2\u001b[0m\n\u001b[1;32m      1\u001b[0m \u001b[38;5;66;03m# test case 4 (this will create an error)\u001b[39;00m\n\u001b[0;32m----> 2\u001b[0m \u001b[43mconverter\u001b[49m\u001b[43m(\u001b[49m\u001b[43mconversions\u001b[49m\u001b[43m,\u001b[49m\u001b[43m \u001b[49m\u001b[38;5;241;43m27.0\u001b[39;49m\u001b[43m,\u001b[49m\u001b[43m \u001b[49m\u001b[38;5;124;43m\"\u001b[39;49m\u001b[38;5;124;43mslug\u001b[39;49m\u001b[38;5;124;43m\"\u001b[39;49m\u001b[43m,\u001b[49m\u001b[43m \u001b[49m\u001b[38;5;124;43m\"\u001b[39;49m\u001b[38;5;124;43msnail\u001b[39;49m\u001b[38;5;124;43m\"\u001b[39;49m\u001b[43m)\u001b[49m\n",
      "Cell \u001b[0;32mIn [5], line 11\u001b[0m, in \u001b[0;36mconverter\u001b[0;34m(conv, value, from_unit, to_unit)\u001b[0m\n\u001b[1;32m      8\u001b[0m         \u001b[38;5;28;01mbreak\u001b[39;00m\n\u001b[1;32m     10\u001b[0m \u001b[38;5;66;03m# calculate the conversion\u001b[39;00m\n\u001b[0;32m---> 11\u001b[0m result \u001b[38;5;241m=\u001b[39m value\u001b[38;5;241m*\u001b[39m\u001b[43mfactor\u001b[49m\n\u001b[1;32m     13\u001b[0m \u001b[38;5;66;03m# return the converted value\u001b[39;00m\n\u001b[1;32m     14\u001b[0m \u001b[38;5;28;01mreturn\u001b[39;00m result\n",
      "\u001b[0;31mUnboundLocalError\u001b[0m: local variable 'factor' referenced before assignment"
     ]
    }
   ],
   "source": [
    "# test case 4 (this will create an error)\n",
    "converter(conversions, 27.0, \"slug\", \"snail\")"
   ]
  },
  {
   "cell_type": "markdown",
   "id": "7ee4bbd9",
   "metadata": {},
   "source": [
    "## Rewrite the function with improvements\n",
    "\n",
    "- address the errors from above\n",
    "- add better documentation\n",
    "- return a full sentence for the answer\n",
    "\n",
    "Note that this has become a much longer function than above.  I wrote this step by step, testing each additional component as I added it to ensure that it didn't have any bugs.  "
   ]
  },
  {
   "cell_type": "code",
   "execution_count": 10,
   "id": "04bf4e3f",
   "metadata": {},
   "outputs": [],
   "source": [
    "def converter(conv, value, from_unit, to_unit):\n",
    "    '''\n",
    "    This function converts a value from a unit of `from_unit` to a unit of `to_unit` and returns the converted balue\n",
    "\n",
    "    inputs:\n",
    "    conv is a list of lists containing known conversion factors, of the format [[from_unit, factor, to_unit],...]\n",
    "    value is a float or integer that contains the value that the user wants to convert\n",
    "    from_unit is a string containing the unit of the original measurement (to be converted from)\n",
    "    to_unit is a string containing the unit of the desired measurement (to be converted to)\n",
    "\n",
    "    returns:\n",
    "    a float value containing the conversion factor\n",
    "    '''\n",
    "\n",
    "    # set default values for the conversion factor and result (will help with error handling)\n",
    "    factor = None\n",
    "    result = None\n",
    "\n",
    "    # loop through the conv list of lists\n",
    "    for row in conv:\n",
    "        # check if this row matches the from_unit and to_unit\n",
    "        if (row[0] == from_unit and row[2] == to_unit):\n",
    "            factor = row[1]\n",
    "            break\n",
    "\n",
    "    # error handling\n",
    "\n",
    "    # if the either the from_unit or to_unit are not in the data file, factor will still be None. Print an error message\n",
    "    if (factor is None):\n",
    "        print(\"Error: could not find the input units in the supplied conversion list. Please check your inputs and try again.\")\n",
    "        return\n",
    "    \n",
    "    # check if the conversion factor is a float\n",
    "    # Note: I will use try, except here, but you could instead use an if statement (e.g. if (not isinstance(factor, float): )\n",
    "    try:\n",
    "        factor = float(factor)\n",
    "    except:\n",
    "        print(\"Error: the conversion factor must be provided as a float or int. Please check your inputs and try again.\")\n",
    "        return\n",
    "\n",
    "    # check if the value is float or integer and otherwise provide an error message\n",
    "    try:\n",
    "        value = float(value)\n",
    "    except:\n",
    "        print(\"Error: the value to be converted must be provided as a float or int.  Please check your inputs and try again.\")\n",
    "        return\n",
    "    \n",
    "\n",
    "    # attempt to calculate the result\n",
    "    # and check make sure we are returning a float\n",
    "    try:\n",
    "        # our formula is to multiply the value by the conversion factor\n",
    "        result = float(value*factor)\n",
    "    except:\n",
    "        print(\"Error: could not apply conversion.  Please check your inputs and try again.\")\n",
    "        return\n",
    "\n",
    "    # return the converted value as a full sentence\n",
    "    return print(\"Your quantity in \" + to_unit + \"s is \" + str(result))\n",
    "\n"
   ]
  },
  {
   "cell_type": "markdown",
   "id": "5e76e012",
   "metadata": {},
   "source": [
    "## Test the new function"
   ]
  },
  {
   "cell_type": "code",
   "execution_count": 11,
   "id": "9f4f5188",
   "metadata": {},
   "outputs": [
    {
     "name": "stdout",
     "output_type": "stream",
     "text": [
      "Your quantity in mLs is 1187.5\n"
     ]
    }
   ],
   "source": [
    "# test case 1\n",
    "converter(conversions, 2.5, \"pint\", \"mL\")"
   ]
  },
  {
   "cell_type": "code",
   "execution_count": 12,
   "id": "3c0ef983",
   "metadata": {},
   "outputs": [
    {
     "name": "stdout",
     "output_type": "stream",
     "text": [
      "Your quantity in liters is 849.6\n"
     ]
    }
   ],
   "source": [
    "# test case 2\n",
    "converter(conversions, 30, \"cubic_foot\", \"liter\")"
   ]
  },
  {
   "cell_type": "code",
   "execution_count": 13,
   "id": "56d7195b",
   "metadata": {},
   "outputs": [
    {
     "name": "stdout",
     "output_type": "stream",
     "text": [
      "Your quantity in pounds is 154.43519999999998\n"
     ]
    }
   ],
   "source": [
    "# test case 3 (this now does not create an error because we are explicitly converting to floats)\n",
    "converter(conversions, \"4.8\", \"slug\", \"pound\")"
   ]
  },
  {
   "cell_type": "code",
   "execution_count": 14,
   "id": "30d6da2b",
   "metadata": {},
   "outputs": [
    {
     "name": "stdout",
     "output_type": "stream",
     "text": [
      "Error: the value to be converted must be provided as a float or int.  Please check your inputs and try again.\n"
     ]
    }
   ],
   "source": [
    "# test case 3b (now the value cannot be converted to a float and this will create an error)\n",
    "converter(conversions, \"4.8typo\", \"slug\", \"pound\")"
   ]
  },
  {
   "cell_type": "code",
   "execution_count": 15,
   "id": "14389368",
   "metadata": {},
   "outputs": [
    {
     "name": "stdout",
     "output_type": "stream",
     "text": [
      "Error: could not find the input units in the supplied conversion list. Please check your inputs and try again.\n"
     ]
    }
   ],
   "source": [
    "# test case 4 (this will create an error)\n",
    "converter(conversions, 27.0, \"slug\", \"snail\")"
   ]
  },
  {
   "cell_type": "markdown",
   "id": "8636865b",
   "metadata": {},
   "source": [
    "## Bonus Challenges\n",
    "\n",
    "Rewrite the function so that it:\n",
    "- allows for different capitalization in the units\n",
    "- allows for spaces instead of underscores in the units\n",
    "- allows for a reverse use case (requiring division)"
   ]
  },
  {
   "cell_type": "code",
   "execution_count": 16,
   "id": "d5dc7092",
   "metadata": {},
   "outputs": [],
   "source": [
    "def converter(conv, value, from_unit, to_unit):\n",
    "    '''\n",
    "    This function converts a value from a unit of `from_unit` to a unit of `to_unit` and returns the converted balue\n",
    "\n",
    "    inputs:\n",
    "    conv is a list of lists containing known conversion factors, of the format [[from_unit, factor, to_unit],...]\n",
    "    value is a float or integer that contains the value that the user wants to convert\n",
    "    from_unit is a string containing the unit of the original measurement (to be converted from)\n",
    "    to_unit is a string containing the unit of the desired measurement (to be converted to)\n",
    "\n",
    "    returns:\n",
    "    a float value containing the conversion factor\n",
    "    '''\n",
    "\n",
    "    # set default values for the conversion factor and result (will help with error handling)\n",
    "    factor = None\n",
    "    result = None\n",
    "    \n",
    "    # a boolean flag to check if I need to invert the factor\n",
    "    invert_factor = False\n",
    "\n",
    "    # loop through the conv list of lists\n",
    "    # first, convert everything to lower case and replace spaces with '_' (to match our input format)\n",
    "    from_unit_lower = from_unit.lower().replace(' ','_')\n",
    "    to_unit_lower = to_unit.lower().replace(' ','_')\n",
    "    for row in conv:\n",
    "        # check if this row matches the from_unit and to_unit\n",
    "        if (row[0] == from_unit_lower and row[2] == to_unit_lower):\n",
    "            factor = row[1]\n",
    "            break\n",
    "\n",
    "        # also check if the row matches the units in reverse\n",
    "        if (row[2] == from_unit_lower and row[0] == to_unit_lower):\n",
    "            factor = row[1]\n",
    "            invert_factor = True\n",
    "            break\n",
    "\n",
    "    # error handling\n",
    "\n",
    "    # if the either the from_unit or to_unit are not in the data file, factor will still be None. Print an error message\n",
    "    if (factor is None):\n",
    "        print(\"Error: could not find the input units in the supplied conversion list. Please check your inputs and try again.\")\n",
    "        return\n",
    "    \n",
    "    # check if the conversion factor is a float\n",
    "    # Note: I will use try, except here, but you could instead use an if statement (e.g. if (not isinstance(factor, float): )\n",
    "    try:\n",
    "        factor = float(factor)\n",
    "        # check if I need to invert the factor\n",
    "        if (invert_factor):\n",
    "            factor = 1./factor\n",
    "    except:\n",
    "        print(\"Error: the conversion factor must be provided as a float or int. Please check your inputs and try again.\")\n",
    "        return\n",
    "\n",
    "    # check if the value is float or integer and otherwise provide an error message\n",
    "    try:\n",
    "        value = float(value)\n",
    "    except:\n",
    "        print(\"Error: the value to be converted must be provided as a float or int.  Please check your inputs and try again.\")\n",
    "        return\n",
    "    \n",
    "\n",
    "    # attempt to calculate the result\n",
    "    # and check make sure we are returning a float\n",
    "    try:\n",
    "        # our formula is to multiply the value by the conversion factor\n",
    "        result = float(value*factor)\n",
    "    except:\n",
    "        print(\"Error: could not apply conversion.  Please check your inputs and try again.\")\n",
    "        return\n",
    "    \n",
    "    # return the converted value as a full sentence\n",
    "    return print(\"Your quantity in \" + to_unit + \"s is \" + str(result))\n",
    "\n"
   ]
  },
  {
   "cell_type": "markdown",
   "id": "05b3a075",
   "metadata": {},
   "source": [
    "## Test the bonus cases"
   ]
  },
  {
   "cell_type": "code",
   "execution_count": 17,
   "id": "165eb257",
   "metadata": {},
   "outputs": [
    {
     "name": "stdout",
     "output_type": "stream",
     "text": [
      "Your quantity in m/Secs is 2.33352\n"
     ]
    }
   ],
   "source": [
    "# bonus test case 1\n",
    "converter(conversions, 8.4, \"KM/H\", \"m/Sec\")"
   ]
  },
  {
   "cell_type": "code",
   "execution_count": 18,
   "id": "9ad71683",
   "metadata": {},
   "outputs": [
    {
     "name": "stdout",
     "output_type": "stream",
     "text": [
      "Your quantity in liters is 849.3771234428086\n"
     ]
    }
   ],
   "source": [
    "# bonus test case 2\n",
    "converter(conversions, 30, \"cubic foot\", \"liter\")"
   ]
  },
  {
   "cell_type": "code",
   "execution_count": 19,
   "id": "025b07af",
   "metadata": {},
   "outputs": [
    {
     "name": "stdout",
     "output_type": "stream",
     "text": [
      "Your quantity in joules is 8.4e-07\n"
     ]
    }
   ],
   "source": [
    "# bonus test case 3\n",
    "converter(conversions, 8.4, \"ergs\", \"joule\")"
   ]
  },
  {
   "cell_type": "markdown",
   "id": "65eb32b9",
   "metadata": {},
   "source": [
    "### Use the input function\n",
    "\n",
    "*Note: If you are working in VSCode, the input box will be at the top-middle of the window.*"
   ]
  },
  {
   "cell_type": "code",
   "execution_count": 20,
   "id": "2e0cf11c",
   "metadata": {},
   "outputs": [
    {
     "name": "stdout",
     "output_type": "stream",
     "text": [
      "Your quantity in liters is 849.3771234428086\n"
     ]
    }
   ],
   "source": [
    "# example using input\n",
    "# e.g., you can type the following input : 30, cubic foot, liter\n",
    "x = input(\"Please enter the value, from_unit, to_unit, separated by commas.  Please do not include any quotes or other special characters (other than commas).\")\n",
    "try:\n",
    "    x = x.split(\",\")\n",
    "except:\n",
    "    print(\"An error occured.\")\n",
    "\n",
    "converter(conversions, float(x[0]), x[1].strip(), x[2].strip())\n"
   ]
  },
  {
   "cell_type": "code",
   "execution_count": null,
   "id": "fe80856c",
   "metadata": {},
   "outputs": [],
   "source": []
  }
 ],
 "metadata": {
  "kernelspec": {
   "display_name": "default-py310-wsl",
   "language": "python",
   "name": "python3"
  },
  "language_info": {
   "codemirror_mode": {
    "name": "ipython",
    "version": 3
   },
   "file_extension": ".py",
   "mimetype": "text/x-python",
   "name": "python",
   "nbconvert_exporter": "python",
   "pygments_lexer": "ipython3",
   "version": "3.10.9"
  }
 },
 "nbformat": 4,
 "nbformat_minor": 5
}
