{
 "cells": [
  {
   "cell_type": "markdown",
   "id": "aa1d81b0-3622-44db-af00-684367197ffb",
   "metadata": {},
   "source": [
    "# <span style=\"color:red\">Strings: Secret Message Exercise"
   ]
  },
  {
   "cell_type": "markdown",
   "id": "dd3db8a6-f0b0-40bb-9e4d-a9060075e6e9",
   "metadata": {},
   "source": [
    "For this exercise, you are going to transform one string into another. First I will show you an example. Then you will write one of your own."
   ]
  },
  {
   "cell_type": "code",
   "execution_count": null,
   "id": "b9ad1c6a-bf22-4142-a556-2c8f2512bc6b",
   "metadata": {},
   "outputs": [],
   "source": [
    "full_message = \"Brown Bear,\\nBrown Bear,\\nWhat do you see?\"\n",
    "print(full_message)"
   ]
  },
  {
   "cell_type": "code",
   "execution_count": null,
   "id": "092fe0db-3eca-45f4-a8fe-2baea9d38ebf",
   "metadata": {},
   "outputs": [],
   "source": [
    "full_message[12:]"
   ]
  },
  {
   "cell_type": "code",
   "execution_count": null,
   "id": "1d28941e-9e09-4b44-be94-dd4fda55ae54",
   "metadata": {},
   "outputs": [],
   "source": [
    "full_message[12:].replace(\"What do you see\", \"looking at me\")"
   ]
  },
  {
   "cell_type": "code",
   "execution_count": null,
   "id": "0f949671-1eed-479d-ab35-4bb881e12edc",
   "metadata": {},
   "outputs": [],
   "source": [
    "full_message[12:].replace(\"What do you see\", \"looking at me\").replace(\"Brown Bear,\", \"Python Programmers\")"
   ]
  },
  {
   "cell_type": "code",
   "execution_count": null,
   "id": "e62eee8c-7a6d-4c90-ae4f-9391f90e0f66",
   "metadata": {},
   "outputs": [],
   "source": [
    "full_message[12:].replace(\"What do you see\", \"looking at me\").replace(\"Brown Bear,\", (\"Python Programmers\").upper())"
   ]
  },
  {
   "cell_type": "code",
   "execution_count": null,
   "id": "76a3051b-954d-4de5-b531-17134ac2019c",
   "metadata": {},
   "outputs": [],
   "source": [
    "full_message[12:].replace(\"What do you see\", \"looking at me\").replace(\"Brown Bear,\", (\"Python Programmers\").upper())[:-1]"
   ]
  },
  {
   "cell_type": "code",
   "execution_count": null,
   "id": "886af1b9-e578-481c-a08a-36532a49350d",
   "metadata": {},
   "outputs": [],
   "source": [
    "full_message[12:].replace(\"What do you see\", \"looking at me\").replace(\"Brown Bear,\", (\"Python Programmers\").upper())[:-1] + \".\""
   ]
  },
  {
   "cell_type": "code",
   "execution_count": null,
   "id": "54d58cc5-0eb9-4759-b1a4-cd4f041ab9de",
   "metadata": {},
   "outputs": [],
   "source": [
    "full_message = \"I see \" + full_message[12:].replace(\"What do you see\", \"looking at me\").replace(\"Brown Bear,\", (\"Python Programmers\").upper())[:-1] + \".\""
   ]
  },
  {
   "cell_type": "code",
   "execution_count": null,
   "id": "6a3e641b-90be-4228-9b70-49113edcd247",
   "metadata": {},
   "outputs": [],
   "source": [
    "print(full_message)"
   ]
  },
  {
   "cell_type": "code",
   "execution_count": null,
   "id": "f4929168-5736-4142-9a27-4b163ddbcf0e",
   "metadata": {},
   "outputs": [],
   "source": []
  },
  {
   "cell_type": "markdown",
   "id": "9fac4639-aefc-4218-99f8-d15a6b679b91",
   "metadata": {},
   "source": [
    "<br><br>**<span style=\"color:crimson\">LOGIC.** Now it is your turn. Think of a string that you want to turn into a different string. Use trial and error to build up a line of code that will transform your message.\n",
    "<br><br>You can use indexing to take a substring, any of the string functions you've learned today, like (`rstrip()`, `lstrip()`, `replace()`, `upper()`, `lower()`, `capitalize()`, `title()`), as well as the addition operator `+` to add new characters at the end or beginning. Include at least 5 steps to get from your full message to your secret message."
   ]
  },
  {
   "cell_type": "markdown",
   "id": "80b85176-8e14-430b-8cea-2c2b1e18168d",
   "metadata": {},
   "source": []
  },
  {
   "cell_type": "code",
   "execution_count": null,
   "id": "3a814666-67e4-4eb6-8d1e-f065094fc0fd",
   "metadata": {},
   "outputs": [],
   "source": []
  },
  {
   "cell_type": "code",
   "execution_count": null,
   "id": "7b04f8cf-27ac-4069-99c3-00fbefa34554",
   "metadata": {},
   "outputs": [],
   "source": []
  },
  {
   "cell_type": "code",
   "execution_count": null,
   "id": "2c2189d6-5b30-4431-960e-813f7460c6e6",
   "metadata": {},
   "outputs": [],
   "source": []
  },
  {
   "cell_type": "code",
   "execution_count": null,
   "id": "b4cfd9fb-497d-43ed-95d8-74cfbd714d5d",
   "metadata": {},
   "outputs": [],
   "source": []
  },
  {
   "cell_type": "code",
   "execution_count": null,
   "id": "10c44342-82c8-41e3-8929-af45b8b77926",
   "metadata": {},
   "outputs": [],
   "source": []
  },
  {
   "cell_type": "code",
   "execution_count": null,
   "id": "1ab81459-a130-4550-9dcb-300b12bd8f76",
   "metadata": {},
   "outputs": [],
   "source": []
  },
  {
   "cell_type": "code",
   "execution_count": null,
   "id": "b82025a2-5b47-45a2-8c90-1b08551946a8",
   "metadata": {},
   "outputs": [],
   "source": []
  },
  {
   "cell_type": "code",
   "execution_count": null,
   "id": "9676db2b-9e44-47e9-8b13-35de88404416",
   "metadata": {},
   "outputs": [],
   "source": []
  },
  {
   "cell_type": "code",
   "execution_count": null,
   "id": "1e68d2e3-1b8f-45b4-b655-d22b9bfa6d3e",
   "metadata": {},
   "outputs": [],
   "source": []
  }
 ],
 "metadata": {
  "kernelspec": {
   "display_name": "Python [conda env:base] *",
   "language": "python",
   "name": "conda-base-py"
  },
  "language_info": {
   "codemirror_mode": {
    "name": "ipython",
    "version": 3
   },
   "file_extension": ".py",
   "mimetype": "text/x-python",
   "name": "python",
   "nbconvert_exporter": "python",
   "pygments_lexer": "ipython3",
   "version": "3.12.7"
  }
 },
 "nbformat": 4,
 "nbformat_minor": 5
}
