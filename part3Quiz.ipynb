{
 "cells": [
  {
   "cell_type": "markdown",
   "metadata": {
    "editable": true,
    "slideshow": {
     "slide_type": ""
    },
    "tags": []
   },
   "source": [
    "# Part 3 Quiz"
   ]
  },
  {
   "cell_type": "markdown",
   "metadata": {
    "editable": true,
    "slideshow": {
     "slide_type": ""
    },
    "tags": []
   },
   "source": [
    "The quiz is short and combines topics covered in Part 3. If you are struggling, go back through the lecture notebook to review. The quiz is designed to test how well you're learning to put code together more than just if you remember the right operators and functions, so don't be ashamed to look things up. Try to spend as much time as you can to figure out a correct answer before you look at the answer key.\n",
    "<br><br>The quiz is self-graded - you do not need to turn anything in! The answer key is called \"part3Quiz-answers.ipynb\". \n",
    "<br><br>**The last question of the quiz is a real thinking question that will take some time. There are many ways to do it - the answer key contains several different answers.**"
   ]
  },
  {
   "cell_type": "markdown",
   "metadata": {},
   "source": [
    "#### First, where are the files used in this quiz?"
   ]
  },
  {
   "cell_type": "markdown",
   "metadata": {},
   "source": [
    "**If you are working on the cloud (for example Google Colab):** You will need to first run the line of code below. It will pull the files into your workspace. "
   ]
  },
  {
   "cell_type": "code",
   "execution_count": null,
   "metadata": {},
   "outputs": [],
   "source": [
    "!wget https://raw.githubusercontent.com/nuitrcs/python_workshops_datarepo/refs/heads/main/alice.txt\n",
    "!wget https://raw.githubusercontent.com/nuitrcs/python_workshops_datarepo/refs/heads/main/class_grades.txt\n",
    "!wget https://raw.githubusercontent.com/nuitrcs/python_workshops_datarepo/refs/heads/main/DNAresults.csv"
   ]
  },
  {
   "cell_type": "markdown",
   "metadata": {},
   "source": [
    "The files should now appear in your filetree in the same directory where this notebook is located. You should see them in your filetree. Look for `alice.txt` and `dogs.txt`.\n",
    "<br><br>**If you are working locally on your own computer:** The files are here in the same repo where this notebook is located. You should see them in your filetree. Look for `alice.txt` and `dogs.txt`."
   ]
  },
  {
   "cell_type": "markdown",
   "metadata": {
    "editable": true,
    "slideshow": {
     "slide_type": ""
    },
    "tags": []
   },
   "source": [
    "1. Correct the errors in this code. It's ok to run the code first to see the error message:"
   ]
  },
  {
   "cell_type": "code",
   "execution_count": null,
   "metadata": {},
   "outputs": [],
   "source": [
    "with open(alice.txt, \"r\") as f\n",
    "    print(f.readlines()[0])"
   ]
  },
  {
   "cell_type": "markdown",
   "metadata": {
    "editable": true,
    "slideshow": {
     "slide_type": ""
    },
    "tags": []
   },
   "source": [
    "2. Make an empty list called `class_list`. Write code to open the file \"class_grades.txt\" and append each line to the `class_list` list with the new line characters removed from the ends of the lines:"
   ]
  },
  {
   "cell_type": "code",
   "execution_count": null,
   "metadata": {},
   "outputs": [],
   "source": []
  },
  {
   "cell_type": "code",
   "execution_count": null,
   "metadata": {},
   "outputs": [],
   "source": []
  },
  {
   "cell_type": "code",
   "execution_count": null,
   "metadata": {},
   "outputs": [],
   "source": [
    "print(class_list)"
   ]
  },
  {
   "cell_type": "markdown",
   "metadata": {},
   "source": [
    "3. I've written code below to show you what the file \"DNAresults.csv\" looks like. Decide how you would like to store this data - as a list of lists, a dictionary, a list of dictionaries, or a dictionary of dictionaries. Write down the steps you will need to do to transform the data into your structure of choice, and then try to write the code."
   ]
  },
  {
   "cell_type": "code",
   "execution_count": null,
   "metadata": {},
   "outputs": [],
   "source": [
    "dna_file = \"DNAresults.csv\"\n",
    "with open(dna_file, \"r\") as f:\n",
    "    for line in f.readlines():\n",
    "        print(line)"
   ]
  },
  {
   "cell_type": "code",
   "execution_count": null,
   "metadata": {},
   "outputs": [],
   "source": []
  },
  {
   "cell_type": "code",
   "execution_count": null,
   "metadata": {},
   "outputs": [],
   "source": []
  },
  {
   "cell_type": "code",
   "execution_count": null,
   "metadata": {},
   "outputs": [],
   "source": []
  },
  {
   "cell_type": "code",
   "execution_count": null,
   "metadata": {},
   "outputs": [],
   "source": []
  },
  {
   "cell_type": "code",
   "execution_count": null,
   "metadata": {},
   "outputs": [],
   "source": []
  },
  {
   "cell_type": "code",
   "execution_count": null,
   "metadata": {},
   "outputs": [],
   "source": []
  }
 ],
 "metadata": {
  "kernelspec": {
   "display_name": "Python [conda env:base] *",
   "language": "python",
   "name": "conda-base-py"
  },
  "language_info": {
   "codemirror_mode": {
    "name": "ipython",
    "version": 3
   },
   "file_extension": ".py",
   "mimetype": "text/x-python",
   "name": "python",
   "nbconvert_exporter": "python",
   "pygments_lexer": "ipython3",
   "version": "3.12.7"
  }
 },
 "nbformat": 4,
 "nbformat_minor": 4
}
