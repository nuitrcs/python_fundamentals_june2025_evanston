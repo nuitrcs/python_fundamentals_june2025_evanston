{
 "cells": [
  {
   "cell_type": "markdown",
   "id": "e8afa07c-b808-4ddc-b7df-19dab5614d5d",
   "metadata": {},
   "source": [
    "# Python Fundamentals - Part 4"
   ]
  },
  {
   "cell_type": "markdown",
   "id": "7e3e608a-e6a2-4041-9e03-0d0c9fb59480",
   "metadata": {},
   "source": [
    "## 4.0 Part 4: Defining your own functions\n",
    "\n",
    "### Concepts in Part 4\n",
    "- *Writing your own functions*"
   ]
  },
  {
   "cell_type": "markdown",
   "id": "0475d418-dc2c-4e8a-b73b-4bc1e4f903ad",
   "metadata": {
    "editable": true,
    "slideshow": {
     "slide_type": ""
    },
    "tags": []
   },
   "source": [
    "<br>You already know how to **call** a function."
   ]
  },
  {
   "cell_type": "code",
   "execution_count": 3,
   "id": "f1cfe68e-02e0-4563-9dd9-a7307c62a1da",
   "metadata": {},
   "outputs": [
    {
     "data": {
      "text/plain": [
       "24"
      ]
     },
     "execution_count": 3,
     "metadata": {},
     "output_type": "execute_result"
    }
   ],
   "source": [
    "len(\"How long is this string?\")"
   ]
  },
  {
   "cell_type": "code",
   "execution_count": 5,
   "id": "8e9205db-30fe-4328-a7b3-e42719369323",
   "metadata": {},
   "outputs": [
    {
     "data": {
      "text/plain": [
       "6500.0"
      ]
     },
     "execution_count": 5,
     "metadata": {},
     "output_type": "execute_result"
    }
   ],
   "source": [
    "round(6479.382029, -2)"
   ]
  },
  {
   "cell_type": "markdown",
   "id": "6b7d21c5-c60c-47e1-ad4a-cb48ad003760",
   "metadata": {},
   "source": [
    "<br><br>You can also write your own custom functions. Why would you want to do that?\n",
    "- If you find yourself using the same code repeatedly, so that you don't have to write it over and over\n",
    "- If you want to break your code up into chunks to make it much more readable"
   ]
  },
  {
   "cell_type": "markdown",
   "id": "fb73db54-6f98-45b0-8dc1-1ee24abe5d98",
   "metadata": {},
   "source": [
    "<br>To create our own function, we create a **function definition**."
   ]
  },
  {
   "cell_type": "markdown",
   "id": "afae6a72-4054-48ac-baaf-2c3c0278d407",
   "metadata": {},
   "source": [
    "The function definition starts with a **def statement**.\n",
    "<br><br>The next line (inside the indentation) should be a short **docstring** that says what your function does. This is just good practice. A docstring is like a comment - it is ignored by the computer. A docstring is contained in **triple quotation marks** like `''' Here is my docstring. '''`\n",
    "<br><br>Next (still inside the def statement), you write the code for what the function does."
   ]
  },
  {
   "cell_type": "markdown",
   "id": "0a6e7517-401b-427c-adf8-672af2f5826b",
   "metadata": {},
   "source": [
    "Here is the syntax. (This code won't work, it's just to look at.)"
   ]
  },
  {
   "cell_type": "markdown",
   "id": "87c050b4-b6be-480c-814d-8e65fad35393",
   "metadata": {},
   "source": [
    "`def function_name(arguments, if_needed):`\n",
    "<br>`    '''a useful comment'''`\n",
    "<br>`    do something or create a new object`"
   ]
  },
  {
   "cell_type": "markdown",
   "id": "2f1fe46d-a740-415d-88dd-4a33040ece25",
   "metadata": {},
   "source": [
    "### <br><br>4.1 Writing a function with no arguments"
   ]
  },
  {
   "cell_type": "markdown",
   "id": "6402cbf8-de5d-471c-bd2b-d11e8f49a253",
   "metadata": {},
   "source": [
    "First we'll write a function that just does something whenever it's called. It takes no arguments."
   ]
  },
  {
   "cell_type": "code",
   "execution_count": 14,
   "id": "6e41fa6a-9038-4fb2-8b8a-65acd7bb7374",
   "metadata": {},
   "outputs": [],
   "source": [
    "def hello():\n",
    "    ''' Prints Hello! '''\n",
    "    print(\"Hello!\")"
   ]
  },
  {
   "cell_type": "markdown",
   "id": "7898d5d3-0885-4902-8f17-5a9b9a79f6ec",
   "metadata": {},
   "source": [
    "<br> Let's call the `hello()` function:"
   ]
  },
  {
   "cell_type": "code",
   "execution_count": 17,
   "id": "1c729ea2-f9e1-42f2-823a-4cc28c206bd3",
   "metadata": {},
   "outputs": [
    {
     "name": "stdout",
     "output_type": "stream",
     "text": [
      "Hello!\n"
     ]
    }
   ],
   "source": [
    "hello()"
   ]
  },
  {
   "cell_type": "markdown",
   "id": "8ef1f20c-a985-4312-9f4e-657a76e0afc8",
   "metadata": {},
   "source": [
    "### <br><br>4.2 Writing a function with one argument"
   ]
  },
  {
   "cell_type": "markdown",
   "id": "64cad51b-0689-4ee0-b050-8bc1f1189bc8",
   "metadata": {},
   "source": [
    "We can add an argument. Whatever you call the arguments in your function definition must match exactly to how they are used inside the function definition, just like we saw with for loops and with/as statements:"
   ]
  },
  {
   "cell_type": "code",
   "execution_count": 21,
   "id": "9ea444ce-7809-4f52-9ef9-32bb26de8bca",
   "metadata": {},
   "outputs": [],
   "source": [
    "def hello_you(name):\n",
    "    '''Prints Hello You! replacing You with whatever string you give it.'''\n",
    "    print(\"Hello \" + name + \"!\")"
   ]
  },
  {
   "cell_type": "markdown",
   "id": "36b7a54b-ec16-40a5-9ebe-46acda10dd6d",
   "metadata": {},
   "source": [
    "Now we can pass it any string as an argument:"
   ]
  },
  {
   "cell_type": "code",
   "execution_count": 24,
   "id": "88b8ca3c-88fc-4402-8962-9487c92768d7",
   "metadata": {},
   "outputs": [
    {
     "name": "stdout",
     "output_type": "stream",
     "text": [
      "Hello Eeyore!\n"
     ]
    }
   ],
   "source": [
    "hello_you(\"Eeyore\")"
   ]
  },
  {
   "cell_type": "markdown",
   "id": "2cfcb425-1a4a-4e96-a497-6e33ddffebf2",
   "metadata": {},
   "source": [
    "<br><br>`name` is only used within the function - it doesn't exist outside the function. We say it is out of **scope**."
   ]
  },
  {
   "cell_type": "code",
   "execution_count": 27,
   "id": "e0fc8012-99cb-4396-96da-8783c227b745",
   "metadata": {},
   "outputs": [
    {
     "ename": "NameError",
     "evalue": "name 'name' is not defined",
     "output_type": "error",
     "traceback": [
      "\u001b[0;31m---------------------------------------------------------------------------\u001b[0m",
      "\u001b[0;31mNameError\u001b[0m                                 Traceback (most recent call last)",
      "Cell \u001b[0;32mIn[27], line 1\u001b[0m\n\u001b[0;32m----> 1\u001b[0m name\n",
      "\u001b[0;31mNameError\u001b[0m: name 'name' is not defined"
     ]
    }
   ],
   "source": [
    "name"
   ]
  },
  {
   "cell_type": "markdown",
   "id": "19804d48-f0ec-47d3-9d08-8469a761bdb7",
   "metadata": {},
   "source": [
    "### <br><br>Exercise: Writing a function with one argument"
   ]
  },
  {
   "cell_type": "markdown",
   "id": "6c0fe01f-a8f4-4fe9-9d03-bfa491b795d1",
   "metadata": {},
   "source": [
    "Write a function called `birthday_age` that prints out a happy birthday message like \"Happy Birthday! You are 10 years old!\" The age should be provided as an argument when the function is called."
   ]
  },
  {
   "cell_type": "code",
   "execution_count": 32,
   "id": "fefb4589-4ba8-46c1-b4ce-4d7552155318",
   "metadata": {},
   "outputs": [],
   "source": [
    "def birthday_age(age):\n",
    "    print(\"Happy Birthday! You are \" + str(age) + \" years old!\")"
   ]
  },
  {
   "cell_type": "code",
   "execution_count": null,
   "id": "f83f2912-d6ac-4249-8a7f-08c42c3e0b66",
   "metadata": {},
   "outputs": [],
   "source": []
  },
  {
   "cell_type": "markdown",
   "id": "a534f137-2b6d-4d53-a896-6a418c519917",
   "metadata": {},
   "source": [
    "Test your function with this call:"
   ]
  },
  {
   "cell_type": "code",
   "execution_count": 34,
   "id": "69fcd391-3002-48f4-9f2d-9f56b566972b",
   "metadata": {},
   "outputs": [
    {
     "name": "stdout",
     "output_type": "stream",
     "text": [
      "Happy Birthday! You are 86 years old!\n"
     ]
    }
   ],
   "source": [
    "birthday_age(86)"
   ]
  },
  {
   "cell_type": "markdown",
   "id": "29127b5a-1261-466f-b6e3-680fcfd793d2",
   "metadata": {},
   "source": [
    "### <br><br><br>4.3 Writing a function that returns an object"
   ]
  },
  {
   "cell_type": "markdown",
   "id": "8b8c9038-9da0-4444-afac-fa1e6c9e49db",
   "metadata": {},
   "source": [
    "Let's write our own function to find the area of a rectangle."
   ]
  },
  {
   "cell_type": "markdown",
   "id": "470768d1-da69-456b-a7f4-fd36a00b8e1a",
   "metadata": {},
   "source": [
    "The arguments our function will need are length and width. "
   ]
  },
  {
   "cell_type": "code",
   "execution_count": 37,
   "id": "4a79e058-d1a0-41cf-93b1-6bb646ab8e3c",
   "metadata": {},
   "outputs": [],
   "source": [
    "def area(length, width):\n",
    "    '''This function takes a length and width of a rectangle and returns the area.'''\n",
    "    answer = length * width"
   ]
  },
  {
   "cell_type": "code",
   "execution_count": 39,
   "id": "bda88381-3545-4f95-b000-b98d516a8543",
   "metadata": {},
   "outputs": [],
   "source": [
    "area(10, 12)"
   ]
  },
  {
   "cell_type": "code",
   "execution_count": 41,
   "id": "2d54d51e-b5ba-4605-b97a-3c6613caf020",
   "metadata": {},
   "outputs": [
    {
     "ename": "NameError",
     "evalue": "name 'answer' is not defined",
     "output_type": "error",
     "traceback": [
      "\u001b[0;31m---------------------------------------------------------------------------\u001b[0m",
      "\u001b[0;31mNameError\u001b[0m                                 Traceback (most recent call last)",
      "Cell \u001b[0;32mIn[41], line 1\u001b[0m\n\u001b[0;32m----> 1\u001b[0m \u001b[38;5;28mprint\u001b[39m(answer)\n",
      "\u001b[0;31mNameError\u001b[0m: name 'answer' is not defined"
     ]
    }
   ],
   "source": [
    "print(answer)"
   ]
  },
  {
   "cell_type": "markdown",
   "id": "24a11e33-a9cb-4e0e-b54b-61a499995313",
   "metadata": {},
   "source": [
    "<br><br><br>So we created `answer` inside our function definition, but it doesn't exist outside that definition. We need to include a **return statement** if we want our function to return the value of an object created inside the function."
   ]
  },
  {
   "cell_type": "code",
   "execution_count": 44,
   "id": "a88ffaef-25d1-4e38-8324-e856ed566332",
   "metadata": {},
   "outputs": [],
   "source": [
    "def area(length, width):\n",
    "    '''This function takes a length and width of a rectangle and returns the area.'''\n",
    "    answer = length * width\n",
    "    return answer"
   ]
  },
  {
   "cell_type": "code",
   "execution_count": 46,
   "id": "493cb09f-19ed-49b8-be74-771fb0858b6c",
   "metadata": {},
   "outputs": [
    {
     "data": {
      "text/plain": [
       "120"
      ]
     },
     "execution_count": 46,
     "metadata": {},
     "output_type": "execute_result"
    }
   ],
   "source": [
    "area(10, 12)"
   ]
  },
  {
   "cell_type": "markdown",
   "id": "b7a8d982-1803-464b-b554-c75e750f57e1",
   "metadata": {},
   "source": [
    "<br>Like any function, we can assign the output of a custom function to a variable. Let's say my kitchen is 10 feet long and 12 feet wide:"
   ]
  },
  {
   "cell_type": "code",
   "execution_count": 49,
   "id": "80aeb97c-91f8-4307-bb82-c8908fad8453",
   "metadata": {},
   "outputs": [],
   "source": [
    "kitchen_area = area(10, 12)"
   ]
  },
  {
   "cell_type": "code",
   "execution_count": 51,
   "id": "0697f33e-2159-464c-8fe8-c6ca78c82db3",
   "metadata": {},
   "outputs": [
    {
     "name": "stdout",
     "output_type": "stream",
     "text": [
      "120\n"
     ]
    }
   ],
   "source": [
    "print(kitchen_area)"
   ]
  },
  {
   "cell_type": "markdown",
   "id": "df4661c4-4d4c-4ffd-a10b-747ccced60fa",
   "metadata": {},
   "source": [
    "<br>Also like other functions, we can pass variables to the function as our arguments:"
   ]
  },
  {
   "cell_type": "code",
   "execution_count": 54,
   "id": "418c5d9c-4c0c-4453-a207-a8dbaa664da2",
   "metadata": {},
   "outputs": [],
   "source": [
    "kitchen_l = 10\n",
    "kitchen_w = 12"
   ]
  },
  {
   "cell_type": "code",
   "execution_count": 56,
   "id": "999d3b3e-d89c-4447-8f74-4518d94b37c8",
   "metadata": {},
   "outputs": [
    {
     "name": "stdout",
     "output_type": "stream",
     "text": [
      "120\n"
     ]
    }
   ],
   "source": [
    "kitchen = area(kitchen_l, kitchen_w)\n",
    "print(kitchen)"
   ]
  },
  {
   "cell_type": "markdown",
   "id": "3edf1ca0-8963-4d44-99cd-fd165a42f827",
   "metadata": {},
   "source": [
    "### <br><br>Exercise: Writing a function that returns an object"
   ]
  },
  {
   "cell_type": "markdown",
   "id": "ab4a46e1-3b26-4871-a9c8-0dec695dad67",
   "metadata": {},
   "source": [
    "Define a function called `initials`. It should take two strings as arguments - `first` and `last`. The function should return the first letters of each argument, combined into one string.\n",
    "<br><br>For example, if I called `initials(\"Colby\", \"Wood\")` it should return `'CW'`."
   ]
  },
  {
   "cell_type": "code",
   "execution_count": 61,
   "id": "409856b4-d03d-47d0-a45f-bcf9ad013943",
   "metadata": {},
   "outputs": [],
   "source": [
    "def initials(first, last):\n",
    "    return first[0] + last[0]"
   ]
  },
  {
   "cell_type": "markdown",
   "id": "74617663-cd0b-44e6-9fc7-84b1e3fb5916",
   "metadata": {},
   "source": [
    "Test the function with your name:"
   ]
  },
  {
   "cell_type": "code",
   "execution_count": 64,
   "id": "09f87fdd-45d3-4389-9caa-bc7bce29f806",
   "metadata": {},
   "outputs": [
    {
     "data": {
      "text/plain": [
       "'CW'"
      ]
     },
     "execution_count": 64,
     "metadata": {},
     "output_type": "execute_result"
    }
   ],
   "source": [
    "initials(\"Colby\", \"Wood\")"
   ]
  },
  {
   "cell_type": "markdown",
   "id": "a3c7cb1d-9204-41b1-a3d4-131c65170fb3",
   "metadata": {},
   "source": [
    "*Did you remember to include a docstring in your function?*"
   ]
  },
  {
   "cell_type": "markdown",
   "id": "96ee8192-2d4e-4ad0-954e-41e4f74d6a6d",
   "metadata": {},
   "source": [
    "### <br><br>4.4 More function practice"
   ]
  },
  {
   "cell_type": "markdown",
   "id": "12c6ce52-ed66-49c1-9bbf-fb374392b011",
   "metadata": {},
   "source": [
    "Let's write a simple function to convert a volume in teaspoons to a volume in cups. There are 48 teaspoons in 1 cup."
   ]
  },
  {
   "cell_type": "code",
   "execution_count": 66,
   "id": "28ddf0f9-c34e-457f-9ab7-0545b0b27f03",
   "metadata": {},
   "outputs": [],
   "source": [
    "def tsp_to_cup(tsp):\n",
    "    '''converts a number from tsps to cups'''\n",
    "    return tsp / 48"
   ]
  },
  {
   "cell_type": "code",
   "execution_count": 68,
   "id": "d0553922-5c27-445a-98a2-89c6224be4be",
   "metadata": {},
   "outputs": [
    {
     "data": {
      "text/plain": [
       "0.16666666666666666"
      ]
     },
     "execution_count": 68,
     "metadata": {},
     "output_type": "execute_result"
    }
   ],
   "source": [
    "tsp_to_cup(8)"
   ]
  },
  {
   "cell_type": "markdown",
   "id": "ddc76ea3-a056-4de8-b70b-3b889942f2c6",
   "metadata": {},
   "source": [
    "Let's improve it by rounding the answer. Instead of doing the math inside the **return** statement, we'll create a variable to store the answer."
   ]
  },
  {
   "cell_type": "code",
   "execution_count": 71,
   "id": "83116aad-3b5f-4f1c-93ca-e186ddf5e182",
   "metadata": {},
   "outputs": [],
   "source": [
    "def tsp_to_cup(tsp):\n",
    "    '''converts a number from tsps to cups'''\n",
    "    cup = round(tsp / 48, 2)\n",
    "    return cup"
   ]
  },
  {
   "cell_type": "code",
   "execution_count": 73,
   "id": "c68cd045-baa0-4ac7-8ef3-ef37b741d26e",
   "metadata": {},
   "outputs": [
    {
     "data": {
      "text/plain": [
       "0.17"
      ]
     },
     "execution_count": 73,
     "metadata": {},
     "output_type": "execute_result"
    }
   ],
   "source": [
    "tsp_to_cup(8)"
   ]
  },
  {
   "cell_type": "markdown",
   "id": "655caf1c-4049-4a50-a349-477bb8a9e414",
   "metadata": {},
   "source": [
    "### <br><br>Exercise: Function practice"
   ]
  },
  {
   "cell_type": "markdown",
   "id": "b230345f-a1cf-4aaf-8531-9f6f952d9bfa",
   "metadata": {},
   "source": [
    "Write a function to convert  miles per hour to kilometers per hour. 1 mph is equal to 1.60934 kph. Round the answer to the nearest kph."
   ]
  },
  {
   "cell_type": "code",
   "execution_count": 77,
   "id": "f412f163-aa79-4180-bb91-65ce02cc8b3b",
   "metadata": {},
   "outputs": [],
   "source": [
    "def mph_to_kph(mph):\n",
    "    kph = round(mph * 1.60934)\n",
    "    return kph"
   ]
  },
  {
   "cell_type": "markdown",
   "id": "2e17327d-8666-4574-bca4-19ba3ad145f9",
   "metadata": {},
   "source": [
    "Test your function with 60 mph."
   ]
  },
  {
   "cell_type": "code",
   "execution_count": 80,
   "id": "c0e9ca68-b8a2-449a-8a5c-9cb34bdfca71",
   "metadata": {},
   "outputs": [
    {
     "data": {
      "text/plain": [
       "97"
      ]
     },
     "execution_count": 80,
     "metadata": {},
     "output_type": "execute_result"
    }
   ],
   "source": [
    "mph_to_kph(60)"
   ]
  },
  {
   "cell_type": "markdown",
   "id": "b426a07e-bcc3-43eb-b49e-c7d25701975f",
   "metadata": {},
   "source": [
    "### <br><br>Exercise: Function practice 2"
   ]
  },
  {
   "cell_type": "markdown",
   "id": "2338ae8b-d333-440a-8d81-523d00f002d5",
   "metadata": {},
   "source": [
    "Here is a dictionary containing the conversion factors from 1 pound to a variety of other units of weight or mass:"
   ]
  },
  {
   "cell_type": "code",
   "execution_count": 84,
   "id": "a4fa11fc-c88a-453d-b974-04738a78979a",
   "metadata": {},
   "outputs": [],
   "source": [
    "pound_dict = {\"ounce\": 16, \"gram\": 453.592, \"kilogram\": 0.453592, \n",
    "              \"ton\": 0.0005, \"stone\": 0.0714286}"
   ]
  },
  {
   "cell_type": "markdown",
   "id": "60440423-87db-4a6c-a488-6ef4fa6dd166",
   "metadata": {},
   "source": [
    "<br>Write a function called `pound_to` that takes two arguments, a weight in pounds and the unit of measure that you want to convert it to, as included in the dictionary above. The function should return the converted weight. For example, someone might call `pound_to(150, \"stone\")` and the function should return `10.71`. The answer should be rounded to 2 places after the decimal."
   ]
  },
  {
   "cell_type": "code",
   "execution_count": 88,
   "id": "c568d596-4d67-4ccb-9d94-444e4f04bc4e",
   "metadata": {},
   "outputs": [],
   "source": [
    "def pound_to(weight, new_unit):\n",
    "    '''converts a number of pounds to one of five other units'''\n",
    "    new_weight = weight * pound_dict[new_unit]\n",
    "    return round(new_weight, 2)"
   ]
  },
  {
   "cell_type": "code",
   "execution_count": null,
   "id": "a26b95b4-c03a-4473-ba00-dbe49e2eb43f",
   "metadata": {},
   "outputs": [],
   "source": []
  },
  {
   "cell_type": "code",
   "execution_count": null,
   "id": "3df45c10-1c04-4c81-b655-a67faea353bb",
   "metadata": {},
   "outputs": [],
   "source": []
  },
  {
   "cell_type": "markdown",
   "id": "9132480b-202c-4a8c-9997-4bf51ed8d35e",
   "metadata": {},
   "source": [
    "Test your function:"
   ]
  },
  {
   "cell_type": "code",
   "execution_count": 90,
   "id": "65cf78ad-1b96-4e85-a810-6f3355a1121a",
   "metadata": {},
   "outputs": [
    {
     "data": {
      "text/plain": [
       "10.71"
      ]
     },
     "execution_count": 90,
     "metadata": {},
     "output_type": "execute_result"
    }
   ],
   "source": [
    "pound_to(150, \"stone\")"
   ]
  },
  {
   "cell_type": "markdown",
   "id": "64a032df-b94c-4cc1-9995-74677eff3f03",
   "metadata": {
    "tags": []
   },
   "source": [
    "### <br><br>Exercise: Function practice 3"
   ]
  },
  {
   "cell_type": "markdown",
   "id": "501a0d9f-4f74-44cc-8367-d532c35d9b52",
   "metadata": {},
   "source": [
    "Do you remember how the `title()` string method works, and why we didn't like it?"
   ]
  },
  {
   "cell_type": "code",
   "execution_count": 92,
   "id": "76f3ba0e-5e7e-414c-bef2-14f0860a6c04",
   "metadata": {},
   "outputs": [
    {
     "data": {
      "text/plain": [
       "\"I'Ll Be There\""
      ]
     },
     "execution_count": 92,
     "metadata": {},
     "output_type": "execute_result"
    }
   ],
   "source": [
    "\"I'll be there\".title()"
   ]
  },
  {
   "cell_type": "markdown",
   "id": "2a05642b-0c88-4e3c-a700-9bf82db0dcad",
   "metadata": {},
   "source": [
    "Using everything you've learned about defining your own functions, as well as strings (and maybe lists?), write a new function called `new_title()` that capitalizes each word, without capitalizing letters after punctuation like apostrophes. "
   ]
  },
  {
   "cell_type": "code",
   "execution_count": 95,
   "id": "0fa36c01-49f0-430a-a078-990873a60d9e",
   "metadata": {},
   "outputs": [],
   "source": [
    "def new_title(a_string):\n",
    "    a_list = a_string.split()\n",
    "    a_capital_list = []\n",
    "    for word in a_list:\n",
    "        a_capital_list.append(word.capitalize())\n",
    "    return \" \".join(a_capital_list)"
   ]
  },
  {
   "cell_type": "code",
   "execution_count": 98,
   "id": "42c2612e-bc95-497a-bb99-e517afb658d8",
   "metadata": {},
   "outputs": [
    {
     "data": {
      "text/plain": [
       "\"I'll Be There\""
      ]
     },
     "execution_count": 98,
     "metadata": {},
     "output_type": "execute_result"
    }
   ],
   "source": [
    "new_title(\"I'll be there\")"
   ]
  },
  {
   "cell_type": "code",
   "execution_count": null,
   "id": "463a368b-f619-4a76-b2c4-a3ce4dfd3280",
   "metadata": {},
   "outputs": [],
   "source": []
  },
  {
   "cell_type": "code",
   "execution_count": null,
   "id": "e566f2a5-d4f8-4405-8717-24f060cc5f4c",
   "metadata": {},
   "outputs": [],
   "source": []
  },
  {
   "cell_type": "markdown",
   "id": "fbd6fb54-580b-49cc-9b7f-a54f566a9fb8",
   "metadata": {
    "editable": true,
    "slideshow": {
     "slide_type": ""
    },
    "tags": []
   },
   "source": []
  },
  {
   "cell_type": "code",
   "execution_count": null,
   "id": "20a9983b-ae29-4675-980e-9f289405efed",
   "metadata": {},
   "outputs": [],
   "source": []
  }
 ],
 "metadata": {
  "kernelspec": {
   "display_name": "Python [conda env:base] *",
   "language": "python",
   "name": "conda-base-py"
  },
  "language_info": {
   "codemirror_mode": {
    "name": "ipython",
    "version": 3
   },
   "file_extension": ".py",
   "mimetype": "text/x-python",
   "name": "python",
   "nbconvert_exporter": "python",
   "pygments_lexer": "ipython3",
   "version": "3.12.7"
  }
 },
 "nbformat": 4,
 "nbformat_minor": 5
}
